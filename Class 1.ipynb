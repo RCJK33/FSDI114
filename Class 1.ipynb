{
 "cells": [
  {
   "cell_type": "code",
   "execution_count": 1,
   "id": "639abb8f-ff7c-49b0-9579-04fee7f5c62f",
   "metadata": {},
   "outputs": [
    {
     "name": "stdout",
     "output_type": "stream",
     "text": [
      "h\n",
      "e\n",
      "l\n",
      "l\n",
      "o\n"
     ]
    }
   ],
   "source": [
    "for letter in \"hello\":\n",
    "    print(letter)"
   ]
  },
  {
   "cell_type": "markdown",
   "id": "755d4c97-5f93-4711-98e9-b3da24cd3cde",
   "metadata": {},
   "source": [
    "# Problem 1\n",
    "\n",
    "### Given two strings (string_a and string_b), create a funcion that returns True if these are anagrams of each other, False otherwise.\n",
    "\n",
    "### Criteria\n",
    "two Stings are anagramas of each other if both of the following conditions are met\n",
    "1. They must use all the same *letters*  (The same amount of times).\n",
    "2. they must be of the same exact length\n",
    "\n",
    "Examples:\n",
    "heart and earth\n",
    "scar and cars\n",
    "rats and star"
   ]
  },
  {
   "cell_type": "code",
   "execution_count": 1,
   "id": "e961311f-8804-41f4-95e5-e2f73b3b4a01",
   "metadata": {},
   "outputs": [],
   "source": [
    "def is_anagram(string_a, string_b):\n",
    "    return sorted(string_a) == sorted(string_b)"
   ]
  },
  {
   "cell_type": "markdown",
   "id": "74e5182c-1cd3-4d91-a81f-28944a52d849",
   "metadata": {},
   "source": [
    "define is_anagram_r with parameters word1 and word2\n",
    "    if word1 length is different than word2.length\n",
    "        return false\n",
    "    for i in range(word1.length):\n",
    "        "
   ]
  },
  {
   "cell_type": "markdown",
   "id": "e8e9bbee-02b0-48ed-b466-704d8e46e465",
   "metadata": {},
   "source": [
    "function are anagrams with 2 parameters (word 1, word 2):\n",
    "    cleaned_word 1 = removeNonAlphabeticAndLowercase(word 1).\n",
    "    word_cleaned_word 2 = removeNonAlphabeticAndLittleCase(word 2)\n",
    "    removeNonAlphabeticAndLowercase(word 1)\n",
    "    removeNonAlphabeticAndLowercase(word 2)\n",
    "    if the size of word 1 is different from the size of word 2:\n",
    "        returns false\n",
    "    sortByBubble(word 1)\n",
    "    sortBubble(word 2)\n",
    "    isAnagram = True\n",
    "    counter = 0 \n",
    "    cycle while where isAnagram:\n",
    "        if word 1 [counter] != word 2 [counter]:\n",
    "            isAnagram = False\n",
    "            counter += 1\n",
    "    return isAnagram\n",
    "end function\n",
    "\n",
    "function sortByBubble with parameter (array):\n",
    "    n <- length(arrangement)\n",
    "    For i from 0 to n - 1:\n",
    "        exchanged <- false\n",
    "        For j from 0 to n - i - 1:\n",
    "            If array[j] > array[j + 1]:\n",
    "                Swap(array[j], array[j + 1]).\n",
    "                exchanged <- true\n",
    "        End For\n",
    "        If not swapped\n",
    "            stop cycle\n",
    "    End For\n",
    "end of function\n",
    "\n",
    "function removeNonAlphabeticAndLowercase(word):\n",
    "    cleaned word = empty string\n",
    "    for each character in the word\n",
    "        if character is alphabetic\n",
    "            cleanWord += convertToLowerCase(character)\n",
    "    return cleaned word\n",
    "end of function\n",
    "\n",
    "Translated with www.DeepL.com/Translator (free version)"
   ]
  }
 ],
 "metadata": {
  "kernelspec": {
   "display_name": "Python 3 (ipykernel)",
   "language": "python",
   "name": "python3"
  },
  "language_info": {
   "codemirror_mode": {
    "name": "ipython",
    "version": 3
   },
   "file_extension": ".py",
   "mimetype": "text/x-python",
   "name": "python",
   "nbconvert_exporter": "python",
   "pygments_lexer": "ipython3",
   "version": "3.9.6"
  }
 },
 "nbformat": 4,
 "nbformat_minor": 5
}
