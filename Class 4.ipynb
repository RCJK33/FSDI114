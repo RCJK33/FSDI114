{
 "cells": [
  {
   "cell_type": "code",
   "execution_count": 3,
   "metadata": {},
   "outputs": [],
   "source": [
    "class DoubleLinkedList:\n",
    "    def __init__(self):\n",
    "        self.head = None\n",
    "\n",
    "    class __Node:\n",
    "        def __init__(self, value):\n",
    "            self.data = value\n",
    "            self.next = None\n",
    "            self.prev = None\n",
    "\n",
    "        def __str__(self):\n",
    "            return str(self.data)\n",
    "        \n",
    "    def append(self, value):\n",
    "        new_node = self.__Node(value)\n",
    "        if self.head == None:\n",
    "            self.head = new_node\n",
    "            return\n",
    "        \n",
    "        current = self.head\n",
    "        while current.next:\n",
    "            current = current.next\n",
    "        current.next = new_node\n",
    "        current.next.prev = current\n",
    "        \n",
    "\n",
    "    def remove(self, value):\n",
    "        msg = \"Value not found\"\n",
    "        found = True\n",
    "        if not self.head:\n",
    "            msg = \"Empty List\"\n",
    "        else:\n",
    "            current = self.head\n",
    "            while found:\n",
    "                if current.data == value:\n",
    "                    found = True\n",
    "                    break\n",
    "                current = current.next\n",
    "            if found:\n",
    "                prev_node = current.prev\n",
    "                next_node = current.next\n",
    "                if prev_node and next_node:\n",
    "                    prev_node.next = next_node\n",
    "                    next_node.prev = prev_node\n",
    "                elif prev_node:\n",
    "                    prev_node.next = next_node\n",
    "                else:\n",
    "                    self.head = self.head.next\n",
    "        if not found:\n",
    "            raise ValueError(msg)\n",
    "\n",
    "    # Copy & Paste of the function\n",
    "    def __str__(self) -> str:\n",
    "        out = \"[\"\n",
    "        \n",
    "        if self.head is None:\n",
    "            return \"[]\"\n",
    "\n",
    "        nodo = self.head\n",
    "        while nodo:\n",
    "            out += str(nodo)\n",
    "            if not nodo.next is None:\n",
    "                out += \", \"\n",
    "            nodo = nodo.next\n",
    "        out += \"]\"\n",
    "\n",
    "        return out"
   ]
  },
  {
   "cell_type": "code",
   "execution_count": 4,
   "metadata": {},
   "outputs": [
    {
     "name": "stdout",
     "output_type": "stream",
     "text": [
      "[1, 2, 3, 4]\n",
      "[2]\n"
     ]
    }
   ],
   "source": [
    "dll1 = DoubleLinkedList()\n",
    "\n",
    "dll1.append(1)\n",
    "dll1.append(2)\n",
    "dll1.append(3)\n",
    "dll1.append(4)\n",
    "\n",
    "print(dll1)\n",
    "\n",
    "dll1.remove(1)\n",
    "dll1.remove(3)\n",
    "dll1.remove(4)\n",
    "\n",
    "print(dll1)"
   ]
  },
  {
   "cell_type": "code",
   "execution_count": 5,
   "metadata": {},
   "outputs": [],
   "source": [
    "def factorial(n):\n",
    "    if n == 0:\n",
    "        return 1\n",
    "    return n * factorial(n-1)"
   ]
  },
  {
   "cell_type": "code",
   "execution_count": 6,
   "metadata": {},
   "outputs": [
    {
     "name": "stdout",
     "output_type": "stream",
     "text": [
      "55\n"
     ]
    }
   ],
   "source": [
    "def fibonaaci(n):\n",
    "    if n == 1 or n == 2:\n",
    "        return 1\n",
    "    return fibonaaci(n-1) + fibonaaci(n-2)\n",
    "\n",
    "print(fibonaaci(10))"
   ]
  }
 ],
 "metadata": {
  "kernelspec": {
   "display_name": "venv",
   "language": "python",
   "name": "python3"
  },
  "language_info": {
   "codemirror_mode": {
    "name": "ipython",
    "version": 3
   },
   "file_extension": ".py",
   "mimetype": "text/x-python",
   "name": "python",
   "nbconvert_exporter": "python",
   "pygments_lexer": "ipython3",
   "version": "3.9.6"
  },
  "orig_nbformat": 4
 },
 "nbformat": 4,
 "nbformat_minor": 2
}
